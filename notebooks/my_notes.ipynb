{
 "cells": [
  {
   "cell_type": "markdown",
   "id": "617efb31",
   "metadata": {
    "vscode": {
     "languageId": "shellscript"
    }
   },
   "source": [
    "To switch to dbt profile with the `arn:aws:iam::026090528544:role/GlueInteractiveSessionClientRole-dbt-CLI-demo` role that I created"
   ]
  },
  {
   "cell_type": "code",
   "execution_count": null,
   "id": "d5ed738e",
   "metadata": {
    "vscode": {
     "languageId": "shellscript"
    }
   },
   "outputs": [],
   "source": [
    "nano ~/.aws/config\n",
    "\n",
    "# In nano add this profile\n",
    "[profile dbt-glue]\n",
    "role_arn = arn:aws:iam::026090528544:role/GlueInteractiveSessionClientRole-dbt-CLI-demo\n",
    "source_profile = Joshua_Harris_ETL\n",
    "region = ap-southeast-2\n",
    "\n",
    "# switch profile for the terminal session\n",
    "export AWS_PROFILE=dbt-glue\n",
    "\n",
    "# check your cureent profile\n",
    "aws sts get-caller-identity"
   ]
  },
  {
   "cell_type": "markdown",
   "id": "df70d1db",
   "metadata": {},
   "source": [
    "lets make a csv file with example data"
   ]
  },
  {
   "cell_type": "code",
   "execution_count": 92,
   "id": "693415d3",
   "metadata": {
    "vscode": {
     "languageId": "shellscript"
    }
   },
   "outputs": [],
   "source": [
    "# pip install pandas numpy"
   ]
  },
  {
   "cell_type": "code",
   "execution_count": 93,
   "id": "87fd58b5",
   "metadata": {},
   "outputs": [],
   "source": [
    "from pandas import DataFrame\n",
    "from numpy import nan\n",
    "\n",
    "import numpy as np\n",
    "\n",
    "def permute_dataframe(df, random_state=None):\n",
    "    \"\"\"\n",
    "    Returns a new DataFrame with the rows randomly permuted.\n",
    "    Each call produces a different order unless random_state is set.\n",
    "    \"\"\"\n",
    "    return df.sample(frac=1, random_state=random_state).reset_index(drop=True)\n",
    "\n",
    "\n",
    "dirty_df = DataFrame({\n",
    "    'patient_id': [\"A001\", \"A002\", \"A003\", \"A004\", \"A005\", \"\"], \n",
    "    'sex': [\"M\", \"F\", \"0\", \"1\", \"Male\", \"fem\"],\n",
    "    'medication': [None, '', None, nan, None, 'statin'],\n",
    "    'age': [nan, 32, 214, 21, 0, \"\"]\n",
    "    })\n",
    "\n",
    "\n",
    "# Example usage of permute_dataframe:\n",
    "\n",
    "import random\n",
    "permuted_df = permute_dataframe(dirty_df, random_state=random.randint(0, 1_000_000))\n",
    "\n",
    "\n",
    "with open('../data/patient_info.csv', 'w') as f:\n",
    "    permuted_df.to_csv(f, index=False)"
   ]
  },
  {
   "cell_type": "markdown",
   "id": "e761a0aa",
   "metadata": {},
   "source": [
    "lets upload this file to s3"
   ]
  },
  {
   "cell_type": "code",
   "execution_count": 94,
   "id": "0986e2ff",
   "metadata": {},
   "outputs": [
    {
     "name": "stdout",
     "output_type": "stream",
     "text": [
      "upload: ../data/patient_info.csv to s3://acdc-dbt-test-raw/data/patient_info/date_time=20250725135117/patient_info.csv\n"
     ]
    }
   ],
   "source": [
    "%%bash\n",
    "DATETIME=$(date +%Y%m%d%H%M%S)\n",
    "DATA_NAME=\"patient_info\"\n",
    "aws s3 cp \"../data/patient_info.csv\" \"s3://acdc-dbt-test-raw/data/${DATA_NAME}/date_time=${DATETIME}/${DATA_NAME}.csv\" --profile \"default\""
   ]
  },
  {
   "cell_type": "markdown",
   "id": "f709f46a",
   "metadata": {},
   "source": [
    "lets make some other data types"
   ]
  },
  {
   "cell_type": "code",
   "execution_count": 95,
   "id": "9121b9fa",
   "metadata": {},
   "outputs": [],
   "source": [
    "from pandas import DataFrame\n",
    "from numpy import nan\n",
    "\n",
    "dirty_df = DataFrame({\n",
    "    'sample_id': [\"SAM0001\", \"SAM0002\", \"SAM0003\", \"SAM0004\", \"SAM0005\", \"\"],\n",
    "    'patient_id': [\"A001\", \"A002\", \"A003\", \"A004\", \"A005\", \"\"], \n",
    "    'storage_medium': [\"nitrogen\", \"air\", \"nitrogen\", \"air\", \"nitrogen\", \"air\"],\n",
    "    'storage_date': [\"2022-01-01\", \"2022-01-02\", \"2022-01-03\", \"2022-01-04\", \"2022-01-05\", \"2022-01-06\"],\n",
    "    'volume_ul': [0, 486, 4, 4000, 5000, 6000]\n",
    "    })\n",
    "\n",
    "permuted_df = permute_dataframe(dirty_df, random_state=random.randint(0, 1_000_000))\n",
    "\n",
    "with open('../data/sample.csv', 'w') as f:\n",
    "    permuted_df.to_csv(f, index=False)"
   ]
  },
  {
   "cell_type": "code",
   "execution_count": 96,
   "id": "fc9a2992",
   "metadata": {
    "vscode": {
     "languageId": "shellscript"
    }
   },
   "outputs": [
    {
     "name": "stdout",
     "output_type": "stream",
     "text": [
      "upload: ../data/sample.csv to s3://acdc-dbt-test-raw/data/sample/date_time=20250725135118/sample.csv\n"
     ]
    }
   ],
   "source": [
    "%%bash\n",
    "DATETIME=$(date +%Y%m%d%H%M%S)\n",
    "DATA_NAME=\"sample\"\n",
    "aws s3 cp \"../data/sample.csv\" \"s3://acdc-dbt-test-raw/data/${DATA_NAME}/date_time=${DATETIME}/${DATA_NAME}.csv\" --profile \"default\""
   ]
  },
  {
   "cell_type": "markdown",
   "id": "0d67d809",
   "metadata": {},
   "source": [
    "# Trying to run dbt\n",
    "\n",
    "### IAM roles:\n",
    "\n",
    "The principle role: `arn:aws:iam::026090528544:role/GlueInteractiveSessionClientRole-dbt-CLI-demo` as the following policies attached:\n",
    "-  `arn:aws:iam::026090528544:policy/acdc-dbt-glue-test`\n",
    "-  `arn:aws:iam::026090528544:policy/GlueInteractiveSessionClientPolicy-dbt`\n",
    "        - This role Grants permission to create and manage AWS Glue interactive sessions and pass the designated execution role required to run dbt workloads in AWS Glue."
   ]
  },
  {
   "cell_type": "code",
   "execution_count": null,
   "id": "16598391",
   "metadata": {
    "vscode": {
     "languageId": "shellscript"
    }
   },
   "outputs": [],
   "source": [
    "# Checking dbt status to see if it connected and ready\n",
    "!dbt debug # Run in terminal"
   ]
  },
  {
   "cell_type": "markdown",
   "id": "7a9924b5",
   "metadata": {},
   "source": [
    "Should look like:\n",
    "\n",
    "```\n",
    "dbt debug                                                                                                                                                                                                                                                                                                            (main✱) \n",
    "04:33:16  Running with dbt=1.9.8\n",
    "04:33:16  dbt version: 1.9.8\n",
    "04:33:16  python version: 3.9.5\n",
    "04:33:16  python path: /Users/harrijh/.pyenv/versions/3.9.5/bin/python3.9\n",
    "04:33:16  os info: macOS-15.5-arm64-arm-64bit\n",
    "04:33:16  Using profiles dir at /Users/harrijh/projects/acdc-datapipeline-demo/dbt_demo_acdc\n",
    "04:33:16  Using profiles.yml file at /Users/harrijh/projects/acdc-datapipeline-demo/dbt_demo_acdc/profiles.yml\n",
    "04:33:16  Using dbt_project.yml file at /Users/harrijh/projects/acdc-datapipeline-demo/dbt_demo_acdc/dbt_project.yml\n",
    "04:33:16  adapter type: glue\n",
    "04:33:16  adapter version: 1.9.4\n",
    "04:33:16  Configuration:\n",
    "04:33:16    profiles.yml file [OK found and valid]\n",
    "04:33:16    dbt_project.yml file [OK found and valid]\n",
    "04:33:16  Required dependencies:\n",
    "04:33:16   - git [OK found]\n",
    "\n",
    "04:33:16  Connection:\n",
    "04:33:16    role_arn: arn:aws:iam::026090528544:role/AwsGlueSessionUserRestrictedServiceRole-dbtGlueExecutor\n",
    "04:33:16    region: ap-southeast-2\n",
    "04:33:16    workers: 2\n",
    "04:33:16    worker_type: G.1X\n",
    "04:33:16    session_provisioning_timeout_in_seconds: 120\n",
    "04:33:16    schema: glue-db-acdc-dbt-test-clean\n",
    "04:33:16    location: s3://acdc-dbt-test-clean/dbt/\n",
    "04:33:16    extra_jars: None\n",
    "04:33:16    idle_timeout: 10\n",
    "04:33:16    query_timeout_in_minutes: 300\n",
    "04:33:16    glue_version: 5.0\n",
    "04:33:16    security_configuration: None\n",
    "04:33:16    connections: None\n",
    "04:33:16    conf: None\n",
    "04:33:16    extra_py_files: None\n",
    "04:33:16    delta_athena_prefix: None\n",
    "04:33:16    tags: None\n",
    "04:33:16    seed_format: parquet\n",
    "04:33:16    seed_mode: overwrite\n",
    "04:33:16    default_arguments: None\n",
    "04:33:16    iceberg_glue_commit_lock_table: myGlueLockTable\n",
    "04:33:16    use_interactive_session_role_for_api_calls: False\n",
    "04:33:16    lf_tags: None\n",
    "04:33:16    glue_session_id: None\n",
    "04:33:16    glue_session_reuse: True\n",
    "04:33:16    datalake_formats: None\n",
    "04:33:16    enable_session_per_model: False\n",
    "04:33:16    use_arrow: False\n",
    "04:33:16    enable_spark_seed_casting: False\n",
    "04:33:16  Registered adapter: glue=1.9.4\n",
    "04:33:50    Connection test: [OK connection ok]\n",
    "\n",
    "04:33:50  All checks passed!\n",
    "```"
   ]
  },
  {
   "cell_type": "markdown",
   "id": "0711e5ca",
   "metadata": {},
   "source": []
  }
 ],
 "metadata": {
  "kernelspec": {
   "display_name": "env",
   "language": "python",
   "name": "python3"
  },
  "language_info": {
   "codemirror_mode": {
    "name": "ipython",
    "version": 3
   },
   "file_extension": ".py",
   "mimetype": "text/x-python",
   "name": "python",
   "nbconvert_exporter": "python",
   "pygments_lexer": "ipython3",
   "version": "3.9.5"
  }
 },
 "nbformat": 4,
 "nbformat_minor": 5
}

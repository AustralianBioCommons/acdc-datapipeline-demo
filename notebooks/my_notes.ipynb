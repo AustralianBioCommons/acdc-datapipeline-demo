{
 "cells": [
  {
   "cell_type": "markdown",
   "id": "617efb31",
   "metadata": {
    "vscode": {
     "languageId": "shellscript"
    }
   },
   "source": [
    "To switch to dbt profile with the `arn:aws:iam::026090528544:role/GlueInteractiveSessionClientRole-dbt-CLI-demo` role that I created"
   ]
  },
  {
   "cell_type": "code",
   "execution_count": null,
   "id": "d5ed738e",
   "metadata": {
    "vscode": {
     "languageId": "shellscript"
    }
   },
   "outputs": [],
   "source": [
    "nano ~/.aws/config\n",
    "\n",
    "# In nano add this profile\n",
    "[profile dbt-glue]\n",
    "role_arn = arn:aws:iam::026090528544:role/GlueInteractiveSessionClientRole-dbt-CLI-demo\n",
    "source_profile = Joshua_Harris_ETL\n",
    "region = ap-southeast-2\n",
    "\n",
    "# switch profile for the terminal session\n",
    "export AWS_PROFILE=dbt-glue\n",
    "\n",
    "# check your cureent profile\n",
    "aws sts get-caller-identity"
   ]
  },
  {
   "cell_type": "markdown",
   "id": "d93af9a5",
   "metadata": {},
   "source": []
  }
 ],
 "metadata": {
  "language_info": {
   "name": "python"
  }
 },
 "nbformat": 4,
 "nbformat_minor": 5
}

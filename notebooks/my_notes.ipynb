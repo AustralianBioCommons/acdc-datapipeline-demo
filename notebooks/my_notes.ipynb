{
 "cells": [
  {
   "cell_type": "markdown",
   "id": "617efb31",
   "metadata": {
    "vscode": {
     "languageId": "shellscript"
    }
   },
   "source": [
    "To switch to dbt profile with the `arn:aws:iam::026090528544:role/GlueInteractiveSessionClientRole-dbt-CLI-demo` role that I created"
   ]
  },
  {
   "cell_type": "code",
   "execution_count": null,
   "id": "d5ed738e",
   "metadata": {
    "vscode": {
     "languageId": "shellscript"
    }
   },
   "outputs": [],
   "source": [
    "nano ~/.aws/config\n",
    "\n",
    "# In nano add this profile\n",
    "[profile dbt-glue]\n",
    "role_arn = arn:aws:iam::026090528544:role/GlueInteractiveSessionClientRole-dbt-CLI-demo\n",
    "source_profile = Joshua_Harris_ETL\n",
    "region = ap-southeast-2\n",
    "\n",
    "# switch profile for the terminal session\n",
    "export AWS_PROFILE=dbt-glue\n",
    "\n",
    "# check your cureent profile\n",
    "aws sts get-caller-identity"
   ]
  },
  {
   "cell_type": "markdown",
   "id": "df70d1db",
   "metadata": {},
   "source": [
    "lets make a csv file with example data"
   ]
  },
  {
   "cell_type": "code",
   "execution_count": 92,
   "id": "693415d3",
   "metadata": {
    "vscode": {
     "languageId": "shellscript"
    }
   },
   "outputs": [],
   "source": [
    "# pip install pandas numpy"
   ]
  },
  {
   "cell_type": "code",
   "execution_count": 93,
   "id": "87fd58b5",
   "metadata": {},
   "outputs": [],
   "source": [
    "from pandas import DataFrame\n",
    "from numpy import nan\n",
    "\n",
    "import numpy as np\n",
    "\n",
    "def permute_dataframe(df, random_state=None):\n",
    "    \"\"\"\n",
    "    Returns a new DataFrame with the rows randomly permuted.\n",
    "    Each call produces a different order unless random_state is set.\n",
    "    \"\"\"\n",
    "    return df.sample(frac=1, random_state=random_state).reset_index(drop=True)\n",
    "\n",
    "\n",
    "dirty_df = DataFrame({\n",
    "    'patient_id': [\"A001\", \"A002\", \"A003\", \"A004\", \"A005\", \"\"], \n",
    "    'sex': [\"M\", \"F\", \"0\", \"1\", \"Male\", \"fem\"],\n",
    "    'medication': [None, '', None, nan, None, 'statin'],\n",
    "    'age': [nan, 32, 214, 21, 0, \"\"]\n",
    "    })\n",
    "\n",
    "\n",
    "# Example usage of permute_dataframe:\n",
    "\n",
    "import random\n",
    "permuted_df = permute_dataframe(dirty_df, random_state=random.randint(0, 1_000_000))\n",
    "\n",
    "\n",
    "with open('../data/patient_info.csv', 'w') as f:\n",
    "    permuted_df.to_csv(f, index=False)"
   ]
  },
  {
   "cell_type": "markdown",
   "id": "e761a0aa",
   "metadata": {},
   "source": [
    "lets upload this file to s3"
   ]
  },
  {
   "cell_type": "code",
   "execution_count": 94,
   "id": "0986e2ff",
   "metadata": {},
   "outputs": [
    {
     "name": "stdout",
     "output_type": "stream",
     "text": [
      "upload: ../data/patient_info.csv to s3://acdc-dbt-test-raw/data/patient_info/date_time=20250725135117/patient_info.csv\n"
     ]
    }
   ],
   "source": [
    "%%bash\n",
    "DATETIME=$(date +%Y%m%d%H%M%S)\n",
    "DATA_NAME=\"patient_info\"\n",
    "aws s3 cp \"../data/patient_info.csv\" \"s3://acdc-dbt-test-raw/data/${DATA_NAME}/date_time=${DATETIME}/${DATA_NAME}.csv\" --profile \"default\""
   ]
  },
  {
   "cell_type": "markdown",
   "id": "f709f46a",
   "metadata": {},
   "source": [
    "lets make some other data types"
   ]
  },
  {
   "cell_type": "code",
   "execution_count": 95,
   "id": "9121b9fa",
   "metadata": {},
   "outputs": [],
   "source": [
    "from pandas import DataFrame\n",
    "from numpy import nan\n",
    "\n",
    "dirty_df = DataFrame({\n",
    "    'sample_id': [\"SAM0001\", \"SAM0002\", \"SAM0003\", \"SAM0004\", \"SAM0005\", \"\"],\n",
    "    'patient_id': [\"A001\", \"A002\", \"A003\", \"A004\", \"A005\", \"\"], \n",
    "    'storage_medium': [\"nitrogen\", \"air\", \"nitrogen\", \"air\", \"nitrogen\", \"air\"],\n",
    "    'storage_date': [\"2022-01-01\", \"2022-01-02\", \"2022-01-03\", \"2022-01-04\", \"2022-01-05\", \"2022-01-06\"],\n",
    "    'volume_ul': [0, 486, 4, 4000, 5000, 6000]\n",
    "    })\n",
    "\n",
    "permuted_df = permute_dataframe(dirty_df, random_state=random.randint(0, 1_000_000))\n",
    "\n",
    "with open('../data/sample.csv', 'w') as f:\n",
    "    permuted_df.to_csv(f, index=False)"
   ]
  },
  {
   "cell_type": "code",
   "execution_count": 96,
   "id": "fc9a2992",
   "metadata": {
    "vscode": {
     "languageId": "shellscript"
    }
   },
   "outputs": [
    {
     "name": "stdout",
     "output_type": "stream",
     "text": [
      "upload: ../data/sample.csv to s3://acdc-dbt-test-raw/data/sample/date_time=20250725135118/sample.csv\n"
     ]
    }
   ],
   "source": [
    "%%bash\n",
    "DATETIME=$(date +%Y%m%d%H%M%S)\n",
    "DATA_NAME=\"sample\"\n",
    "aws s3 cp \"../data/sample.csv\" \"s3://acdc-dbt-test-raw/data/${DATA_NAME}/date_time=${DATETIME}/${DATA_NAME}.csv\" --profile \"default\""
   ]
  }
 ],
 "metadata": {
  "kernelspec": {
   "display_name": "env",
   "language": "python",
   "name": "python3"
  },
  "language_info": {
   "codemirror_mode": {
    "name": "ipython",
    "version": 3
   },
   "file_extension": ".py",
   "mimetype": "text/x-python",
   "name": "python",
   "nbconvert_exporter": "python",
   "pygments_lexer": "ipython3",
   "version": "3.9.5"
  }
 },
 "nbformat": 4,
 "nbformat_minor": 5
}
